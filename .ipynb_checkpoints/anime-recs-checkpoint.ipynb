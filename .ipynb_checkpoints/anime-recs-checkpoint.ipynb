{
 "cells": [
  {
   "cell_type": "markdown",
   "metadata": {},
   "source": [
    "# animelytics! >///<\n",
    "CIS 545 | Carol Li | 10501401"
   ]
  },
  {
   "cell_type": "markdown",
   "metadata": {},
   "source": [
    "### project structure, information\n",
    "#### structure\n",
    "1. **exploratory data analysis:** statistics, average, genre, ratings.\n",
    "2. **feature selection and engineering**\n",
    "    * drop unecessary columns with unecessary features\n",
    "3. **modelling**\n",
    "    * baseline model: linear regression.\n",
    "    * comparison model: NN (?) decide when get here lol\n",
    "\n",
    "#### links\n",
    "https://www.kaggle.com/azathoth42/myanimelist\n",
    "\n",
    "**using:**\n",
    "* `anime_cleaned.csv`\n",
    "* `animelist_cleaned.csv`\n",
    "\n",
    "submission requires presentation, blog post, or session with craig."
   ]
  },
  {
   "cell_type": "markdown",
   "metadata": {},
   "source": [
    "## 0. Loading Packages and Data"
   ]
  },
  {
   "cell_type": "code",
   "execution_count": null,
   "metadata": {},
   "outputs": [],
   "source": [
    "# installing required packages\n",
    "import numpy as np\n",
    "import pandas as pd\n",
    "import sklearn\n",
    "import matplotlib.pyplot as plt\n",
    "import seaborn as sb\n",
    "\n",
    "# baseline regression\n",
    "from sklearn.preprocessing import LabelEncoder\n",
    "from sklearn.model_selection import train_test_split\n",
    "from sklearn.ensemble import RandomForestClassifier, RandomForestRegressor\n",
    "from sklearn.model_selection import GridSearchCV\n",
    "from sklearn.metrics import accuracy_score\n",
    "from sklearn.neural_network import MLPRegressor, MLPClassifier\n",
    "from sklearn import metrics\n",
    "from sklearn.tree import export_graphviz\n",
    "from matplotlib import rcParams\n",
    "\n",
    "# graph display\n",
    "import joblib\n",
    "import pydot\n",
    "from IPython.display import Image"
   ]
  },
  {
   "cell_type": "code",
   "execution_count": null,
   "metadata": {},
   "outputs": [],
   "source": [
    "# loading animelist data\n",
    "animelist_data = './data/animelists_cleaned.csv'\n",
    "animelist_df = pd.read_csv(animelist_data)\n",
    "animelist_df"
   ]
  },
  {
   "cell_type": "code",
   "execution_count": null,
   "metadata": {},
   "outputs": [],
   "source": [
    "# loading anime rating data\n",
    "anime_data = './data/anime_cleaned.csv'\n",
    "anime_df = pd.read_csv(anime_data)"
   ]
  },
  {
   "cell_type": "code",
   "execution_count": null,
   "metadata": {},
   "outputs": [],
   "source": [
    "with pd.option_context('display.max_rows', 10, 'display.max_columns', None):\n",
    "    print(anime_df)"
   ]
  },
  {
   "cell_type": "code",
   "execution_count": null,
   "metadata": {},
   "outputs": [],
   "source": [
    "anime_df.columns"
   ]
  },
  {
   "cell_type": "markdown",
   "metadata": {},
   "source": [
    "## 1. EDA\n",
    "\n",
    "**requirements:** (according to craig)\n",
    "* overall, statistics about the data\n",
    "    * 1 simple chart (like histogram) and 1 complex chart (box plot or violin plot)\n",
    "    * for instance, hypothesize that ML model will predict that shounen gets higher ratings and write analysis that the ML model will properly verify this\n",
    "    * do ratings on average rating per genre, etc.\n",
    "* could first decide what to predict or do modelling off of, then base EDA on finding information about what they're trying to predict.\n",
    "    * this way, could say EDA led to making certain hypothesis and that the modelling verifies the hypothesis."
   ]
  },
  {
   "cell_type": "markdown",
   "metadata": {},
   "source": [
    "**Ratings versus Popularity**"
   ]
  },
  {
   "cell_type": "code",
   "execution_count": null,
   "metadata": {},
   "outputs": [],
   "source": [
    "# ratings versus popularity - establish that anime with highest ratings tend to be the most popular\n",
    "ax = sb.scatterplot(x=\"popularity\", y=\"rating\")"
   ]
  },
  {
   "cell_type": "markdown",
   "metadata": {},
   "source": [
    "## 2. Feature Selection/Extraction"
   ]
  },
  {
   "cell_type": "code",
   "execution_count": null,
   "metadata": {},
   "outputs": [],
   "source": []
  }
 ],
 "metadata": {
  "kernelspec": {
   "display_name": "Python 3.7.4 64-bit",
   "language": "python",
   "name": "python37464bitb3f9fd6c5e874ff49a9561685e08c46a"
  },
  "language_info": {
   "codemirror_mode": {
    "name": "ipython",
    "version": 3
   },
   "file_extension": ".py",
   "mimetype": "text/x-python",
   "name": "python",
   "nbconvert_exporter": "python",
   "pygments_lexer": "ipython3",
   "version": "3.7.4"
  }
 },
 "nbformat": 4,
 "nbformat_minor": 2
}
